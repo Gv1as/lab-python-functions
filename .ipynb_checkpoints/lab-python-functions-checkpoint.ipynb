{
 "cells": [
  {
   "cell_type": "markdown",
   "id": "25d7736c-ba17-4aff-b6bb-66eba20fbf4e",
   "metadata": {},
   "source": [
    "# Lab | Functions"
   ]
  },
  {
   "cell_type": "markdown",
   "id": "0c581062-8967-4d93-b06e-62833222f930",
   "metadata": {
    "tags": []
   },
   "source": [
    "## Exercise: Managing Customer Orders with Functions\n",
    "\n",
    "In the previous exercise, you improved the code for managing customer orders by using loops and flow control. Now, let's take it a step further and refactor the code by introducing functions.\n",
    "\n",
    "Follow the steps below to complete the exercise:\n",
    "\n",
    "1. Define a function named `initialize_inventory` that takes `products` as a parameter. Inside the function, implement the code for initializing the inventory dictionary using a loop and user input.\n",
    "\n",
    "2. Define a function named `get_customer_orders` that takes no parameters. Inside the function, implement the code for prompting the user to enter the product names using a loop. The function should return the `customer_orders` set.\n",
    "\n",
    "3. Define a function named `update_inventory` that takes `customer_orders` and `inventory` as parameters. Inside the function, implement the code for updating the inventory dictionary based on the customer orders.\n",
    "\n",
    "4. Define a function named `calculate_order_statistics` that takes `customer_orders` and `products` as parameters. Inside the function, implement the code for calculating the order statistics (total products ordered, and percentage of unique products ordered). The function should return these values.\n",
    "\n",
    "5. Define a function named `print_order_statistics` that takes `order_statistics` as a parameter. Inside the function, implement the code for printing the order statistics.\n",
    "\n",
    "6. Define a function named `print_updated_inventory` that takes `inventory` as a parameter. Inside the function, implement the code for printing the updated inventory.\n",
    "\n",
    "7. Call the functions in the appropriate sequence to execute the program and manage customer orders.\n",
    "\n",
    "Hints for functions:\n",
    "\n",
    "- Consider the input parameters required for each function and their return values.\n",
    "- Utilize function parameters and return values to transfer data between functions.\n",
    "- Test your functions individually to ensure they work correctly.\n",
    "\n",
    "\n"
   ]
  },
  {
   "cell_type": "code",
   "execution_count": 59,
   "id": "896f604e-b4ac-43c0-aa4a-916f68158267",
   "metadata": {},
   "outputs": [],
   "source": [
    "def initialize_inventory(products):\n",
    "    inventory = {}\n",
    "    for i in products:\n",
    "        #check = True\n",
    "        while True:\n",
    "            quantity = input(f\"Please enter the inventory of {i}: \")\n",
    "            try:\n",
    "                quantity = int(quantity)\n",
    "                break\n",
    "                \n",
    "            except ValueError:\n",
    "                print(\"Please enter a integer\")\n",
    "    \n",
    "        inventory[i] = quantity\n",
    "    return inventory\n",
    "    \n",
    "products = [\"t-shirt\", \"mug\", \"hat\", \"book\", \"keychain\"]"
   ]
  },
  {
   "cell_type": "code",
   "execution_count": 60,
   "id": "97974e0f-b26f-44f0-ae36-14ce1fbff1f0",
   "metadata": {},
   "outputs": [],
   "source": [
    "def get_customer_orders():\n",
    "    customer_orders_dict = {}\n",
    "    customer_orders = set()\n",
    "    while True:\n",
    "        order_decision = input(\"Would you like to order? (yes/no): \").lower()\n",
    "        if order_decision == \"yes\":\n",
    "            customer_order = input(\"What would you like to order? (t-shirt, mug, hat, book, keychain): \").lower()\n",
    "            if customer_order in products:\n",
    "                customer_amount = input(f\"How many {customer_order}s would you like to order?: \")\n",
    "                try:\n",
    "                    customer_amount = int(customer_amount)\n",
    "                    if customer_amount <= inventory[customer_order]:\n",
    "                        customer_orders_dict[customer_order] = customer_amount\n",
    "                        customer_orders.add(customer_order)\n",
    "                    else:\n",
    "                        print(f\"Sorry, we only have {inventory[customer_order]} {customer_order}s in stock.\")\n",
    "                except ValueError:\n",
    "                    print(\"Please enter an integer number\")\n",
    "            else:\n",
    "                print(\"Please choose an item from the available inventory.\")\n",
    "        elif order_decision == \"no\":\n",
    "            \n",
    "            print(\"Thank you for your order.\")\n",
    "            break\n",
    "        else:\n",
    "            print(\"Please enter 'yes' or 'no'.\")\n",
    "    update_inventory(customer_orders_dict, inventory)\n",
    "    return customer_orders\n"
   ]
  },
  {
   "cell_type": "code",
   "execution_count": 61,
   "id": "6df1a587-1c90-47fa-8565-2e7220afe9d7",
   "metadata": {},
   "outputs": [],
   "source": [
    "def update_inventory(customer_orders, inventory):\n",
    "    for key in customer_orders:\n",
    "        if key in inventory:\n",
    "            inventory[key] -= customer_orders[key]\n",
    "    \n",
    "    return inventory"
   ]
  },
  {
   "cell_type": "code",
   "execution_count": 62,
   "id": "aa15c6a0-bb05-4ca9-b373-5cf0313c51a3",
   "metadata": {},
   "outputs": [],
   "source": [
    "def calculate_order_statistics(customer_orders, products):\n",
    "    order_statistics = []\n",
    "    total_products_ordered = 0\n",
    "    for key in inventory:\n",
    "        total_products_ordered += inventory[key]\n",
    "    percentage_unique_products = (len(customer_orders)/len(products))*100\n",
    "    order_statistics.append(total_products_ordered)\n",
    "    order_statistics.append(percentage_unique_products)\n",
    "    return order_statistics "
   ]
  },
  {
   "cell_type": "code",
   "execution_count": 63,
   "id": "bd6b3af7-57b7-4acf-93d0-8654c83c60f1",
   "metadata": {},
   "outputs": [],
   "source": [
    "def print_order_statistics(order_statistics):\n",
    "    print(f\"Total products ordered: {order_statistics[0]}\\nPrecentage of unique products:{order_statistics[1]}\") \n"
   ]
  },
  {
   "cell_type": "code",
   "execution_count": 64,
   "id": "ac64c87a-05d7-4714-8c20-1532c2937f97",
   "metadata": {},
   "outputs": [],
   "source": [
    "def print_updated_inventory(inventory):\n",
    "    print(\"The updated inventory is: \", inventory) "
   ]
  },
  {
   "cell_type": "code",
   "execution_count": 65,
   "id": "322d4522-1afc-40db-bf55-278d23ee47ec",
   "metadata": {},
   "outputs": [
    {
     "name": "stdin",
     "output_type": "stream",
     "text": [
      "Please enter the inventory of t-shirt:  12\n",
      "Please enter the inventory of mug:  12\n",
      "Please enter the inventory of hat:  12\n",
      "Please enter the inventory of book:  12\n",
      "Please enter the inventory of keychain:  12\n"
     ]
    },
    {
     "name": "stdout",
     "output_type": "stream",
     "text": [
      "{'t-shirt': 12, 'mug': 12, 'hat': 12, 'book': 12, 'keychain': 12}\n"
     ]
    },
    {
     "name": "stdin",
     "output_type": "stream",
     "text": [
      "Would you like to order? (yes/no):  yes\n",
      "What would you like to order? (t-shirt, mug, hat, book, keychain):  mug\n",
      "How many mugs would you like to order?:  5\n",
      "Would you like to order? (yes/no):  yes\n",
      "What would you like to order? (t-shirt, mug, hat, book, keychain):  hat\n",
      "How many hats would you like to order?:  5\n",
      "Would you like to order? (yes/no):  yes\n",
      "What would you like to order? (t-shirt, mug, hat, book, keychain):  book\n",
      "How many books would you like to order?:  6\n",
      "Would you like to order? (yes/no):  no\n"
     ]
    },
    {
     "name": "stdout",
     "output_type": "stream",
     "text": [
      "Thank you for your order.\n",
      "Total products ordered: 47\n",
      "Precentage of unique products:60.0\n",
      "The updated inventory is:  {'t-shirt': 12, 'mug': 7, 'hat': 7, 'book': 6, 'keychain': 12}\n"
     ]
    }
   ],
   "source": [
    "products = [\"t-shirt\", \"mug\", \"hat\", \"book\", \"keychain\"]\n",
    "inventory = initialize_inventory(products)\n",
    "print(inventory)\n",
    "customer_orders = get_customer_orders()\n",
    "calculate_order_statistics(customer_orders, products)  \n",
    "print_order_statistics(order_statistics)\n",
    "print_updated_inventory(inventory)"
   ]
  },
  {
   "cell_type": "code",
   "execution_count": null,
   "id": "b5c70700-923e-49d1-98b1-f0d788df6f3d",
   "metadata": {},
   "outputs": [],
   "source": []
  }
 ],
 "metadata": {
  "kernelspec": {
   "display_name": "Python 3 (ipykernel)",
   "language": "python",
   "name": "python3"
  },
  "language_info": {
   "codemirror_mode": {
    "name": "ipython",
    "version": 3
   },
   "file_extension": ".py",
   "mimetype": "text/x-python",
   "name": "python",
   "nbconvert_exporter": "python",
   "pygments_lexer": "ipython3",
   "version": "3.8.18"
  }
 },
 "nbformat": 4,
 "nbformat_minor": 5
}
